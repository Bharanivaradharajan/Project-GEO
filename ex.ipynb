{
 "cells": [
  {
   "cell_type": "code",
   "execution_count": 6,
   "metadata": {},
   "outputs": [
    {
     "name": "stdout",
     "output_type": "stream",
     "text": [
      "Merged data saved to B:\\New folder (2)\\Merged_OutputINDIA.xlsx with improved formatting\n"
     ]
    }
   ],
   "source": [
    "import pandas as pd\n",
    "from openpyxl import load_workbook\n",
    "from openpyxl.styles import Font\n",
    "\n",
    "# List of all Excel file paths\n",
    "file_paths = [\n",
    "    'B:\\\\New folder (2)\\\\State_Climate\\\\Daman.xlsx',\n",
    "    'B:\\\\New folder (2)\\\\State_Climate\\\\Goa_Climate.xlsx',\n",
    "    'B:\\\\New folder (2)\\\\State_Climate\\\\Gujarath_climate.xlsx',\n",
    "    'B:\\\\New folder (2)\\\\State_Climate\\\\Haryana_Climate.xlsx',\n",
    "    'B:\\\\New folder (2)\\\\State_Climate\\\\Himachal.xlsx',\n",
    "    'B:\\\\New folder (2)\\\\State_Climate\\\\Jammu_Kashmir.xlsx',\n",
    "    'B:\\\\New folder (2)\\\\State_Climate\\\\Maharastra.xlsx',\n",
    "    'B:\\\\New folder (2)\\\\State_Climate\\\\Manipur_Climate.xlsx',\n",
    "    'B:\\\\New folder (2)\\\\State_Climate\\\\Meghalaya_Climate.xlsx',\n",
    "    'B:\\\\New folder (2)\\\\State_Climate\\\\Mizoram_Climate.xlsx',\n",
    "    'B:\\\\New folder (2)\\\\State_Climate\\\\New_Delhi.xlsx',\n",
    "    'B:\\\\New folder (2)\\\\State_Climate\\\\Orissa.xlsx',\n",
    "    'B:\\\\New folder (2)\\\\State_Climate\\\\Punjab_Climate.xlsx',\n",
    "    'B:\\\\New folder (2)\\\\State_Climate\\\\Rajastan_Climate.xlsx',\n",
    "    'B:\\\\New folder (2)\\\\State_Climate\\\\Sikkim_Climate.xlsx',\n",
    "    'B:\\\\New folder (2)\\\\State_Climate\\\\Tripura_Climate.xlsx',\n",
    "    'B:\\\\New folder (2)\\\\State_Climate\\\\Uttarakhand_Climate.xlsx',\n",
    "    'B:\\\\New folder (2)\\\\State_Climate\\\\Uttarpradesh_Climate.xlsx',\n",
    "    'B:\\\\New folder (2)\\\\State_Climate\\\\West_Bengal.xlsx',\n",
    "    'B:\\\\New folder (2)\\\\State_Climate\\\\Andaman.xlsx',\n",
    "    'B:\\\\New folder (2)\\\\State_Climate\\\\Arunachal.xlsx',\n",
    "    'B:\\\\New folder (2)\\\\State_Climate\\\\Assam_Climate.xlsx',\n",
    "    'B:\\\\New folder (2)\\\\State_Climate\\\\Bihar_Climate.xlsx',\n",
    "    'B:\\\\New folder (2)\\\\State_Climate\\\\Chattisgarh_.xlsx'\n",
    "]\n",
    "\n",
    "# Initialize an empty list to store DataFrames\n",
    "dfs = []\n",
    "\n",
    "# Load each Excel file into a DataFrame\n",
    "for file_path in file_paths:\n",
    "    df = pd.read_excel(file_path)\n",
    "    dfs.append(df)\n",
    "\n",
    "# Concatenate all DataFrames into a single DataFrame\n",
    "merged_df = pd.concat(dfs, ignore_index=True)\n",
    "\n",
    "# Save the merged DataFrame to a new Excel file\n",
    "output_file_path = 'B:\\\\New folder (2)\\\\Merged_OutputINDIA.xlsx'\n",
    "merged_df.to_excel(output_file_path, index=False)\n",
    "\n",
    "# Load the workbook and access the sheet\n",
    "wb = load_workbook(output_file_path)\n",
    "ws = wb.active\n",
    "\n",
    "# Apply formatting\n",
    "header_font = Font(bold=True, name='Arial', size=12)\n",
    "\n",
    "# Bold the header row\n",
    "for cell in ws[1]:\n",
    "    cell.font = header_font\n",
    "\n",
    "# Adjust column widths\n",
    "for col in ws.columns:\n",
    "    max_length = 0\n",
    "    column = col[0].column_letter  # Get the column name\n",
    "    for cell in col:\n",
    "        try:\n",
    "            if len(str(cell.value)) > max_length:\n",
    "                max_length = len(str(cell.value))\n",
    "        except:\n",
    "            pass\n",
    "    adjusted_width = (max_length + 2)\n",
    "    ws.column_dimensions[column].width = adjusted_width\n",
    "\n",
    "# Save the workbook with formatting\n",
    "wb.save(output_file_path)\n",
    "\n",
    "print(f\"Merged data saved to {output_file_path} with improved formatting\")\n"
   ]
  }
 ],
 "metadata": {
  "kernelspec": {
   "display_name": "Python 3",
   "language": "python",
   "name": "python3"
  },
  "language_info": {
   "codemirror_mode": {
    "name": "ipython",
    "version": 3
   },
   "file_extension": ".py",
   "mimetype": "text/x-python",
   "name": "python",
   "nbconvert_exporter": "python",
   "pygments_lexer": "ipython3",
   "version": "3.12.4"
  }
 },
 "nbformat": 4,
 "nbformat_minor": 2
}
